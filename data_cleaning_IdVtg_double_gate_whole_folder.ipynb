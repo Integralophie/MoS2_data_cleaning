{
 "cells": [
  {
   "cell_type": "code",
   "execution_count": 1,
   "id": "ad07eb78",
   "metadata": {},
   "outputs": [],
   "source": [
    "import pandas as pd\n",
    "import matplotlib.pyplot as plt\n",
    "import MoS2_data_cleaning as mo\n",
    "import find_SS as fs\n",
    "import os\n",
    "import re\n",
    "import numpy as np\n",
    "from scipy.ndimage import gaussian_filter1d\n",
    "\n"
   ]
  },
  {
   "cell_type": "markdown",
   "id": "097689b3",
   "metadata": {},
   "source": [
    "Run the first cell to initial the notebook. Edit the directory path in the next cell. The third last cell is for sorting and saving `csv` files for origin. The second last and last cell are for SS calculation. "
   ]
  },
  {
   "cell_type": "code",
   "execution_count": 2,
   "id": "1d32a197",
   "metadata": {},
   "outputs": [],
   "source": [
    "directory_path = \"C:\\\\Users\\\\sophi\\\\Box\\\\MoS2Project\\\\2025-10-22-CVD\\\\DoubleGate\\\\IdVtg\"  # Replace with your directory path\n",
    "if not os.path.isdir(f'{directory_path}\\sorted'):\n",
    "    os.mkdir(f'{directory_path}\\sorted')\n",
    "file_list = []\n",
    "for filename in os.listdir(directory_path):\n",
    "    file_path = os.path.join(directory_path, filename)\n",
    "    if os.path.isfile(file_path):\n",
    "        file_list.append(file_path)"
   ]
  },
  {
   "cell_type": "code",
   "execution_count": 3,
   "id": "3727723e",
   "metadata": {},
   "outputs": [],
   "source": [
    "name_list = []  # all the file name containing location information\n",
    "SS_100p = []  # SS from 100pA to 1nA\n",
    "SS_1n = []  # SS from 1nA to 10nA\n",
    "\n",
    "SS_gradient_list = []  # SS via gradient method\n",
    "SS_grad_I = []  # Current where SS is calculated (gradient)\n",
    "SS_grad_gm = []\n",
    "current_max = []"
   ]
  },
  {
   "cell_type": "code",
   "execution_count": 4,
   "id": "ab06157e",
   "metadata": {},
   "outputs": [
    {
     "name": "stdout",
     "output_type": "stream",
     "text": [
      "SS:R10C6-B__ExfoliatedMoS2_TGIdVg_DoubleGate.csv started\n",
      "SS:R10C6-T__ExfoliatedMoS2_TGIdVg_DoubleGate.csv started\n"
     ]
    },
    {
     "name": "stderr",
     "output_type": "stream",
     "text": [
      "c:\\Users\\sophi\\anaconda3\\Lib\\site-packages\\numpy\\lib\\_function_base_impl.py:1307: RuntimeWarning: divide by zero encountered in divide\n",
      "  a = -(dx2)/(dx1 * (dx1 + dx2))\n",
      "c:\\Users\\sophi\\anaconda3\\Lib\\site-packages\\numpy\\lib\\_function_base_impl.py:1308: RuntimeWarning: divide by zero encountered in divide\n",
      "  b = (dx2 - dx1) / (dx1 * dx2)\n",
      "c:\\Users\\sophi\\anaconda3\\Lib\\site-packages\\numpy\\lib\\_function_base_impl.py:1309: RuntimeWarning: divide by zero encountered in divide\n",
      "  c = dx1 / (dx2 * (dx1 + dx2))\n",
      "c:\\Users\\sophi\\anaconda3\\Lib\\site-packages\\numpy\\lib\\_function_base_impl.py:1315: RuntimeWarning: invalid value encountered in add\n",
      "  out[tuple(slice1)] = a * f[tuple(slice2)] + b * f[tuple(slice3)] + c * f[tuple(slice4)]\n",
      "c:\\Users\\sophi\\anaconda3\\Lib\\site-packages\\numpy\\lib\\_function_base_impl.py:1307: RuntimeWarning: divide by zero encountered in divide\n",
      "  a = -(dx2)/(dx1 * (dx1 + dx2))\n",
      "c:\\Users\\sophi\\anaconda3\\Lib\\site-packages\\numpy\\lib\\_function_base_impl.py:1308: RuntimeWarning: divide by zero encountered in divide\n",
      "  b = (dx2 - dx1) / (dx1 * dx2)\n",
      "c:\\Users\\sophi\\anaconda3\\Lib\\site-packages\\numpy\\lib\\_function_base_impl.py:1309: RuntimeWarning: divide by zero encountered in divide\n",
      "  c = dx1 / (dx2 * (dx1 + dx2))\n",
      "c:\\Users\\sophi\\anaconda3\\Lib\\site-packages\\numpy\\lib\\_function_base_impl.py:1315: RuntimeWarning: invalid value encountered in add\n",
      "  out[tuple(slice1)] = a * f[tuple(slice2)] + b * f[tuple(slice3)] + c * f[tuple(slice4)]\n"
     ]
    },
    {
     "name": "stdout",
     "output_type": "stream",
     "text": [
      "SS:R11C10-B__ExfoliatedMoS2_TGIdVg_DoubleGate.csv started\n"
     ]
    },
    {
     "name": "stderr",
     "output_type": "stream",
     "text": [
      "c:\\Users\\sophi\\anaconda3\\Lib\\site-packages\\numpy\\lib\\_function_base_impl.py:1307: RuntimeWarning: divide by zero encountered in divide\n",
      "  a = -(dx2)/(dx1 * (dx1 + dx2))\n",
      "c:\\Users\\sophi\\anaconda3\\Lib\\site-packages\\numpy\\lib\\_function_base_impl.py:1308: RuntimeWarning: divide by zero encountered in divide\n",
      "  b = (dx2 - dx1) / (dx1 * dx2)\n",
      "c:\\Users\\sophi\\anaconda3\\Lib\\site-packages\\numpy\\lib\\_function_base_impl.py:1309: RuntimeWarning: divide by zero encountered in divide\n",
      "  c = dx1 / (dx2 * (dx1 + dx2))\n",
      "c:\\Users\\sophi\\anaconda3\\Lib\\site-packages\\numpy\\lib\\_function_base_impl.py:1315: RuntimeWarning: invalid value encountered in add\n",
      "  out[tuple(slice1)] = a * f[tuple(slice2)] + b * f[tuple(slice3)] + c * f[tuple(slice4)]\n"
     ]
    },
    {
     "name": "stdout",
     "output_type": "stream",
     "text": [
      "SS:R11C10-T__ExfoliatedMoS2_TGIdVg_DoubleGate.csv started\n"
     ]
    },
    {
     "name": "stderr",
     "output_type": "stream",
     "text": [
      "c:\\Users\\sophi\\anaconda3\\Lib\\site-packages\\numpy\\lib\\_function_base_impl.py:1307: RuntimeWarning: divide by zero encountered in divide\n",
      "  a = -(dx2)/(dx1 * (dx1 + dx2))\n",
      "c:\\Users\\sophi\\anaconda3\\Lib\\site-packages\\numpy\\lib\\_function_base_impl.py:1308: RuntimeWarning: divide by zero encountered in divide\n",
      "  b = (dx2 - dx1) / (dx1 * dx2)\n",
      "c:\\Users\\sophi\\anaconda3\\Lib\\site-packages\\numpy\\lib\\_function_base_impl.py:1309: RuntimeWarning: divide by zero encountered in divide\n",
      "  c = dx1 / (dx2 * (dx1 + dx2))\n",
      "c:\\Users\\sophi\\anaconda3\\Lib\\site-packages\\numpy\\lib\\_function_base_impl.py:1315: RuntimeWarning: invalid value encountered in add\n",
      "  out[tuple(slice1)] = a * f[tuple(slice2)] + b * f[tuple(slice3)] + c * f[tuple(slice4)]\n"
     ]
    },
    {
     "name": "stdout",
     "output_type": "stream",
     "text": [
      "SS:R11C11-B__ExfoliatedMoS2_TGIdVg_DoubleGate.csv started\n"
     ]
    },
    {
     "name": "stderr",
     "output_type": "stream",
     "text": [
      "c:\\Users\\sophi\\anaconda3\\Lib\\site-packages\\numpy\\lib\\_function_base_impl.py:1307: RuntimeWarning: divide by zero encountered in divide\n",
      "  a = -(dx2)/(dx1 * (dx1 + dx2))\n",
      "c:\\Users\\sophi\\anaconda3\\Lib\\site-packages\\numpy\\lib\\_function_base_impl.py:1308: RuntimeWarning: divide by zero encountered in divide\n",
      "  b = (dx2 - dx1) / (dx1 * dx2)\n",
      "c:\\Users\\sophi\\anaconda3\\Lib\\site-packages\\numpy\\lib\\_function_base_impl.py:1309: RuntimeWarning: divide by zero encountered in divide\n",
      "  c = dx1 / (dx2 * (dx1 + dx2))\n",
      "c:\\Users\\sophi\\anaconda3\\Lib\\site-packages\\numpy\\lib\\_function_base_impl.py:1315: RuntimeWarning: invalid value encountered in add\n",
      "  out[tuple(slice1)] = a * f[tuple(slice2)] + b * f[tuple(slice3)] + c * f[tuple(slice4)]\n"
     ]
    },
    {
     "name": "stdout",
     "output_type": "stream",
     "text": [
      "SS:R11C11-T__ExfoliatedMoS2_TGIdVg_DoubleGate.csv started\n"
     ]
    },
    {
     "name": "stderr",
     "output_type": "stream",
     "text": [
      "c:\\Users\\sophi\\anaconda3\\Lib\\site-packages\\numpy\\lib\\_function_base_impl.py:1307: RuntimeWarning: divide by zero encountered in divide\n",
      "  a = -(dx2)/(dx1 * (dx1 + dx2))\n",
      "c:\\Users\\sophi\\anaconda3\\Lib\\site-packages\\numpy\\lib\\_function_base_impl.py:1308: RuntimeWarning: divide by zero encountered in divide\n",
      "  b = (dx2 - dx1) / (dx1 * dx2)\n",
      "c:\\Users\\sophi\\anaconda3\\Lib\\site-packages\\numpy\\lib\\_function_base_impl.py:1309: RuntimeWarning: divide by zero encountered in divide\n",
      "  c = dx1 / (dx2 * (dx1 + dx2))\n",
      "c:\\Users\\sophi\\anaconda3\\Lib\\site-packages\\numpy\\lib\\_function_base_impl.py:1315: RuntimeWarning: invalid value encountered in add\n",
      "  out[tuple(slice1)] = a * f[tuple(slice2)] + b * f[tuple(slice3)] + c * f[tuple(slice4)]\n"
     ]
    },
    {
     "name": "stdout",
     "output_type": "stream",
     "text": [
      "SS:R11C2-B__ExfoliatedMoS2_TGIdVg_DoubleGate.csv started\n"
     ]
    },
    {
     "name": "stderr",
     "output_type": "stream",
     "text": [
      "c:\\Users\\sophi\\anaconda3\\Lib\\site-packages\\numpy\\lib\\_function_base_impl.py:1307: RuntimeWarning: divide by zero encountered in divide\n",
      "  a = -(dx2)/(dx1 * (dx1 + dx2))\n",
      "c:\\Users\\sophi\\anaconda3\\Lib\\site-packages\\numpy\\lib\\_function_base_impl.py:1308: RuntimeWarning: divide by zero encountered in divide\n",
      "  b = (dx2 - dx1) / (dx1 * dx2)\n",
      "c:\\Users\\sophi\\anaconda3\\Lib\\site-packages\\numpy\\lib\\_function_base_impl.py:1309: RuntimeWarning: divide by zero encountered in divide\n",
      "  c = dx1 / (dx2 * (dx1 + dx2))\n",
      "c:\\Users\\sophi\\anaconda3\\Lib\\site-packages\\numpy\\lib\\_function_base_impl.py:1315: RuntimeWarning: invalid value encountered in add\n",
      "  out[tuple(slice1)] = a * f[tuple(slice2)] + b * f[tuple(slice3)] + c * f[tuple(slice4)]\n"
     ]
    },
    {
     "name": "stdout",
     "output_type": "stream",
     "text": [
      "SS:R11C3-B__ExfoliatedMoS2_TGIdVg_DoubleGate.csv started\n"
     ]
    },
    {
     "name": "stderr",
     "output_type": "stream",
     "text": [
      "c:\\Users\\sophi\\anaconda3\\Lib\\site-packages\\numpy\\lib\\_function_base_impl.py:1307: RuntimeWarning: divide by zero encountered in divide\n",
      "  a = -(dx2)/(dx1 * (dx1 + dx2))\n",
      "c:\\Users\\sophi\\anaconda3\\Lib\\site-packages\\numpy\\lib\\_function_base_impl.py:1308: RuntimeWarning: divide by zero encountered in divide\n",
      "  b = (dx2 - dx1) / (dx1 * dx2)\n",
      "c:\\Users\\sophi\\anaconda3\\Lib\\site-packages\\numpy\\lib\\_function_base_impl.py:1309: RuntimeWarning: divide by zero encountered in divide\n",
      "  c = dx1 / (dx2 * (dx1 + dx2))\n",
      "c:\\Users\\sophi\\anaconda3\\Lib\\site-packages\\numpy\\lib\\_function_base_impl.py:1315: RuntimeWarning: invalid value encountered in add\n",
      "  out[tuple(slice1)] = a * f[tuple(slice2)] + b * f[tuple(slice3)] + c * f[tuple(slice4)]\n"
     ]
    },
    {
     "name": "stdout",
     "output_type": "stream",
     "text": [
      "SS:R11C5-B__ExfoliatedMoS2_TGIdVg_DoubleGate.csv started\n"
     ]
    },
    {
     "name": "stderr",
     "output_type": "stream",
     "text": [
      "c:\\Users\\sophi\\anaconda3\\Lib\\site-packages\\numpy\\lib\\_function_base_impl.py:1307: RuntimeWarning: divide by zero encountered in divide\n",
      "  a = -(dx2)/(dx1 * (dx1 + dx2))\n",
      "c:\\Users\\sophi\\anaconda3\\Lib\\site-packages\\numpy\\lib\\_function_base_impl.py:1308: RuntimeWarning: divide by zero encountered in divide\n",
      "  b = (dx2 - dx1) / (dx1 * dx2)\n",
      "c:\\Users\\sophi\\anaconda3\\Lib\\site-packages\\numpy\\lib\\_function_base_impl.py:1309: RuntimeWarning: divide by zero encountered in divide\n",
      "  c = dx1 / (dx2 * (dx1 + dx2))\n",
      "c:\\Users\\sophi\\anaconda3\\Lib\\site-packages\\numpy\\lib\\_function_base_impl.py:1315: RuntimeWarning: invalid value encountered in add\n",
      "  out[tuple(slice1)] = a * f[tuple(slice2)] + b * f[tuple(slice3)] + c * f[tuple(slice4)]\n"
     ]
    },
    {
     "name": "stdout",
     "output_type": "stream",
     "text": [
      "SS:R11C9-B__ExfoliatedMoS2_TGIdVg_DoubleGate.csv started\n"
     ]
    },
    {
     "name": "stderr",
     "output_type": "stream",
     "text": [
      "c:\\Users\\sophi\\anaconda3\\Lib\\site-packages\\numpy\\lib\\_function_base_impl.py:1307: RuntimeWarning: divide by zero encountered in divide\n",
      "  a = -(dx2)/(dx1 * (dx1 + dx2))\n",
      "c:\\Users\\sophi\\anaconda3\\Lib\\site-packages\\numpy\\lib\\_function_base_impl.py:1308: RuntimeWarning: divide by zero encountered in divide\n",
      "  b = (dx2 - dx1) / (dx1 * dx2)\n",
      "c:\\Users\\sophi\\anaconda3\\Lib\\site-packages\\numpy\\lib\\_function_base_impl.py:1309: RuntimeWarning: divide by zero encountered in divide\n",
      "  c = dx1 / (dx2 * (dx1 + dx2))\n",
      "c:\\Users\\sophi\\anaconda3\\Lib\\site-packages\\numpy\\lib\\_function_base_impl.py:1315: RuntimeWarning: invalid value encountered in add\n",
      "  out[tuple(slice1)] = a * f[tuple(slice2)] + b * f[tuple(slice3)] + c * f[tuple(slice4)]\n"
     ]
    },
    {
     "name": "stdout",
     "output_type": "stream",
     "text": [
      "SS:R11C9-T__ExfoliatedMoS2_TGIdVg_DoubleGate.csv started\n"
     ]
    },
    {
     "name": "stderr",
     "output_type": "stream",
     "text": [
      "c:\\Users\\sophi\\anaconda3\\Lib\\site-packages\\numpy\\lib\\_function_base_impl.py:1307: RuntimeWarning: divide by zero encountered in divide\n",
      "  a = -(dx2)/(dx1 * (dx1 + dx2))\n",
      "c:\\Users\\sophi\\anaconda3\\Lib\\site-packages\\numpy\\lib\\_function_base_impl.py:1308: RuntimeWarning: divide by zero encountered in divide\n",
      "  b = (dx2 - dx1) / (dx1 * dx2)\n",
      "c:\\Users\\sophi\\anaconda3\\Lib\\site-packages\\numpy\\lib\\_function_base_impl.py:1309: RuntimeWarning: divide by zero encountered in divide\n",
      "  c = dx1 / (dx2 * (dx1 + dx2))\n",
      "c:\\Users\\sophi\\anaconda3\\Lib\\site-packages\\numpy\\lib\\_function_base_impl.py:1315: RuntimeWarning: invalid value encountered in add\n",
      "  out[tuple(slice1)] = a * f[tuple(slice2)] + b * f[tuple(slice3)] + c * f[tuple(slice4)]\n"
     ]
    },
    {
     "name": "stdout",
     "output_type": "stream",
     "text": [
      "SS:R12C3-B__ExfoliatedMoS2_TGIdVg_DoubleGate.csv started\n"
     ]
    },
    {
     "name": "stderr",
     "output_type": "stream",
     "text": [
      "c:\\Users\\sophi\\anaconda3\\Lib\\site-packages\\numpy\\lib\\_function_base_impl.py:1307: RuntimeWarning: divide by zero encountered in divide\n",
      "  a = -(dx2)/(dx1 * (dx1 + dx2))\n",
      "c:\\Users\\sophi\\anaconda3\\Lib\\site-packages\\numpy\\lib\\_function_base_impl.py:1308: RuntimeWarning: divide by zero encountered in divide\n",
      "  b = (dx2 - dx1) / (dx1 * dx2)\n",
      "c:\\Users\\sophi\\anaconda3\\Lib\\site-packages\\numpy\\lib\\_function_base_impl.py:1309: RuntimeWarning: divide by zero encountered in divide\n",
      "  c = dx1 / (dx2 * (dx1 + dx2))\n",
      "c:\\Users\\sophi\\anaconda3\\Lib\\site-packages\\numpy\\lib\\_function_base_impl.py:1315: RuntimeWarning: invalid value encountered in add\n",
      "  out[tuple(slice1)] = a * f[tuple(slice2)] + b * f[tuple(slice3)] + c * f[tuple(slice4)]\n"
     ]
    },
    {
     "name": "stdout",
     "output_type": "stream",
     "text": [
      "SS:R12C3-T__ExfoliatedMoS2_TGIdVg_DoubleGate.csv started\n"
     ]
    },
    {
     "name": "stderr",
     "output_type": "stream",
     "text": [
      "c:\\Users\\sophi\\anaconda3\\Lib\\site-packages\\numpy\\lib\\_function_base_impl.py:1307: RuntimeWarning: divide by zero encountered in divide\n",
      "  a = -(dx2)/(dx1 * (dx1 + dx2))\n",
      "c:\\Users\\sophi\\anaconda3\\Lib\\site-packages\\numpy\\lib\\_function_base_impl.py:1308: RuntimeWarning: divide by zero encountered in divide\n",
      "  b = (dx2 - dx1) / (dx1 * dx2)\n",
      "c:\\Users\\sophi\\anaconda3\\Lib\\site-packages\\numpy\\lib\\_function_base_impl.py:1309: RuntimeWarning: divide by zero encountered in divide\n",
      "  c = dx1 / (dx2 * (dx1 + dx2))\n",
      "c:\\Users\\sophi\\anaconda3\\Lib\\site-packages\\numpy\\lib\\_function_base_impl.py:1315: RuntimeWarning: invalid value encountered in add\n",
      "  out[tuple(slice1)] = a * f[tuple(slice2)] + b * f[tuple(slice3)] + c * f[tuple(slice4)]\n"
     ]
    },
    {
     "name": "stdout",
     "output_type": "stream",
     "text": [
      "SS:R12C5-B__ExfoliatedMoS2_TGIdVg_DoubleGate.csv started\n"
     ]
    },
    {
     "name": "stderr",
     "output_type": "stream",
     "text": [
      "c:\\Users\\sophi\\anaconda3\\Lib\\site-packages\\numpy\\lib\\_function_base_impl.py:1307: RuntimeWarning: divide by zero encountered in divide\n",
      "  a = -(dx2)/(dx1 * (dx1 + dx2))\n",
      "c:\\Users\\sophi\\anaconda3\\Lib\\site-packages\\numpy\\lib\\_function_base_impl.py:1308: RuntimeWarning: divide by zero encountered in divide\n",
      "  b = (dx2 - dx1) / (dx1 * dx2)\n",
      "c:\\Users\\sophi\\anaconda3\\Lib\\site-packages\\numpy\\lib\\_function_base_impl.py:1309: RuntimeWarning: divide by zero encountered in divide\n",
      "  c = dx1 / (dx2 * (dx1 + dx2))\n",
      "c:\\Users\\sophi\\anaconda3\\Lib\\site-packages\\numpy\\lib\\_function_base_impl.py:1315: RuntimeWarning: invalid value encountered in add\n",
      "  out[tuple(slice1)] = a * f[tuple(slice2)] + b * f[tuple(slice3)] + c * f[tuple(slice4)]\n"
     ]
    },
    {
     "name": "stdout",
     "output_type": "stream",
     "text": [
      "SS:R12C5-T__ExfoliatedMoS2_TGIdVg_DoubleGate.csv started\n"
     ]
    },
    {
     "name": "stderr",
     "output_type": "stream",
     "text": [
      "c:\\Users\\sophi\\anaconda3\\Lib\\site-packages\\numpy\\lib\\_function_base_impl.py:1307: RuntimeWarning: divide by zero encountered in divide\n",
      "  a = -(dx2)/(dx1 * (dx1 + dx2))\n",
      "c:\\Users\\sophi\\anaconda3\\Lib\\site-packages\\numpy\\lib\\_function_base_impl.py:1308: RuntimeWarning: divide by zero encountered in divide\n",
      "  b = (dx2 - dx1) / (dx1 * dx2)\n",
      "c:\\Users\\sophi\\anaconda3\\Lib\\site-packages\\numpy\\lib\\_function_base_impl.py:1309: RuntimeWarning: divide by zero encountered in divide\n",
      "  c = dx1 / (dx2 * (dx1 + dx2))\n",
      "c:\\Users\\sophi\\anaconda3\\Lib\\site-packages\\numpy\\lib\\_function_base_impl.py:1315: RuntimeWarning: invalid value encountered in add\n",
      "  out[tuple(slice1)] = a * f[tuple(slice2)] + b * f[tuple(slice3)] + c * f[tuple(slice4)]\n"
     ]
    },
    {
     "name": "stdout",
     "output_type": "stream",
     "text": [
      "SS:R12C6-T__ExfoliatedMoS2_TGIdVg_DoubleGate.csv started\n"
     ]
    },
    {
     "name": "stderr",
     "output_type": "stream",
     "text": [
      "c:\\Users\\sophi\\anaconda3\\Lib\\site-packages\\numpy\\lib\\_function_base_impl.py:1307: RuntimeWarning: divide by zero encountered in divide\n",
      "  a = -(dx2)/(dx1 * (dx1 + dx2))\n",
      "c:\\Users\\sophi\\anaconda3\\Lib\\site-packages\\numpy\\lib\\_function_base_impl.py:1308: RuntimeWarning: divide by zero encountered in divide\n",
      "  b = (dx2 - dx1) / (dx1 * dx2)\n",
      "c:\\Users\\sophi\\anaconda3\\Lib\\site-packages\\numpy\\lib\\_function_base_impl.py:1309: RuntimeWarning: divide by zero encountered in divide\n",
      "  c = dx1 / (dx2 * (dx1 + dx2))\n",
      "c:\\Users\\sophi\\anaconda3\\Lib\\site-packages\\numpy\\lib\\_function_base_impl.py:1315: RuntimeWarning: invalid value encountered in add\n",
      "  out[tuple(slice1)] = a * f[tuple(slice2)] + b * f[tuple(slice3)] + c * f[tuple(slice4)]\n"
     ]
    },
    {
     "name": "stdout",
     "output_type": "stream",
     "text": [
      "SS:R14C2-B__ExfoliatedMoS2_TGIdVg_DoubleGate.csv started\n"
     ]
    },
    {
     "name": "stderr",
     "output_type": "stream",
     "text": [
      "c:\\Users\\sophi\\anaconda3\\Lib\\site-packages\\numpy\\lib\\_function_base_impl.py:1307: RuntimeWarning: divide by zero encountered in divide\n",
      "  a = -(dx2)/(dx1 * (dx1 + dx2))\n",
      "c:\\Users\\sophi\\anaconda3\\Lib\\site-packages\\numpy\\lib\\_function_base_impl.py:1308: RuntimeWarning: divide by zero encountered in divide\n",
      "  b = (dx2 - dx1) / (dx1 * dx2)\n",
      "c:\\Users\\sophi\\anaconda3\\Lib\\site-packages\\numpy\\lib\\_function_base_impl.py:1309: RuntimeWarning: divide by zero encountered in divide\n",
      "  c = dx1 / (dx2 * (dx1 + dx2))\n",
      "c:\\Users\\sophi\\anaconda3\\Lib\\site-packages\\numpy\\lib\\_function_base_impl.py:1315: RuntimeWarning: invalid value encountered in add\n",
      "  out[tuple(slice1)] = a * f[tuple(slice2)] + b * f[tuple(slice3)] + c * f[tuple(slice4)]\n"
     ]
    },
    {
     "name": "stdout",
     "output_type": "stream",
     "text": [
      "SS:R14C2-T__ExfoliatedMoS2_TGIdVg_DoubleGate.csv started\n"
     ]
    },
    {
     "name": "stderr",
     "output_type": "stream",
     "text": [
      "c:\\Users\\sophi\\anaconda3\\Lib\\site-packages\\numpy\\lib\\_function_base_impl.py:1307: RuntimeWarning: divide by zero encountered in divide\n",
      "  a = -(dx2)/(dx1 * (dx1 + dx2))\n",
      "c:\\Users\\sophi\\anaconda3\\Lib\\site-packages\\numpy\\lib\\_function_base_impl.py:1308: RuntimeWarning: divide by zero encountered in divide\n",
      "  b = (dx2 - dx1) / (dx1 * dx2)\n",
      "c:\\Users\\sophi\\anaconda3\\Lib\\site-packages\\numpy\\lib\\_function_base_impl.py:1309: RuntimeWarning: divide by zero encountered in divide\n",
      "  c = dx1 / (dx2 * (dx1 + dx2))\n",
      "c:\\Users\\sophi\\anaconda3\\Lib\\site-packages\\numpy\\lib\\_function_base_impl.py:1315: RuntimeWarning: invalid value encountered in add\n",
      "  out[tuple(slice1)] = a * f[tuple(slice2)] + b * f[tuple(slice3)] + c * f[tuple(slice4)]\n"
     ]
    },
    {
     "name": "stdout",
     "output_type": "stream",
     "text": [
      "SS:R14C5-B__ExfoliatedMoS2_TGIdVg_DoubleGate.csv started\n"
     ]
    },
    {
     "name": "stderr",
     "output_type": "stream",
     "text": [
      "c:\\Users\\sophi\\anaconda3\\Lib\\site-packages\\numpy\\lib\\_function_base_impl.py:1307: RuntimeWarning: divide by zero encountered in divide\n",
      "  a = -(dx2)/(dx1 * (dx1 + dx2))\n",
      "c:\\Users\\sophi\\anaconda3\\Lib\\site-packages\\numpy\\lib\\_function_base_impl.py:1308: RuntimeWarning: divide by zero encountered in divide\n",
      "  b = (dx2 - dx1) / (dx1 * dx2)\n",
      "c:\\Users\\sophi\\anaconda3\\Lib\\site-packages\\numpy\\lib\\_function_base_impl.py:1309: RuntimeWarning: divide by zero encountered in divide\n",
      "  c = dx1 / (dx2 * (dx1 + dx2))\n",
      "c:\\Users\\sophi\\anaconda3\\Lib\\site-packages\\numpy\\lib\\_function_base_impl.py:1315: RuntimeWarning: invalid value encountered in add\n",
      "  out[tuple(slice1)] = a * f[tuple(slice2)] + b * f[tuple(slice3)] + c * f[tuple(slice4)]\n"
     ]
    },
    {
     "name": "stdout",
     "output_type": "stream",
     "text": [
      "SS:R14C6-B__ExfoliatedMoS2_TGIdVg_DoubleGate.csv started\n"
     ]
    },
    {
     "name": "stderr",
     "output_type": "stream",
     "text": [
      "c:\\Users\\sophi\\anaconda3\\Lib\\site-packages\\numpy\\lib\\_function_base_impl.py:1307: RuntimeWarning: divide by zero encountered in divide\n",
      "  a = -(dx2)/(dx1 * (dx1 + dx2))\n",
      "c:\\Users\\sophi\\anaconda3\\Lib\\site-packages\\numpy\\lib\\_function_base_impl.py:1308: RuntimeWarning: divide by zero encountered in divide\n",
      "  b = (dx2 - dx1) / (dx1 * dx2)\n",
      "c:\\Users\\sophi\\anaconda3\\Lib\\site-packages\\numpy\\lib\\_function_base_impl.py:1309: RuntimeWarning: divide by zero encountered in divide\n",
      "  c = dx1 / (dx2 * (dx1 + dx2))\n",
      "c:\\Users\\sophi\\anaconda3\\Lib\\site-packages\\numpy\\lib\\_function_base_impl.py:1315: RuntimeWarning: invalid value encountered in add\n",
      "  out[tuple(slice1)] = a * f[tuple(slice2)] + b * f[tuple(slice3)] + c * f[tuple(slice4)]\n"
     ]
    },
    {
     "name": "stdout",
     "output_type": "stream",
     "text": [
      "SS:R14C6-T__ExfoliatedMoS2_TGIdVg_DoubleGate.csv started\n"
     ]
    },
    {
     "name": "stderr",
     "output_type": "stream",
     "text": [
      "c:\\Users\\sophi\\anaconda3\\Lib\\site-packages\\numpy\\lib\\_function_base_impl.py:1307: RuntimeWarning: divide by zero encountered in divide\n",
      "  a = -(dx2)/(dx1 * (dx1 + dx2))\n",
      "c:\\Users\\sophi\\anaconda3\\Lib\\site-packages\\numpy\\lib\\_function_base_impl.py:1308: RuntimeWarning: divide by zero encountered in divide\n",
      "  b = (dx2 - dx1) / (dx1 * dx2)\n",
      "c:\\Users\\sophi\\anaconda3\\Lib\\site-packages\\numpy\\lib\\_function_base_impl.py:1309: RuntimeWarning: divide by zero encountered in divide\n",
      "  c = dx1 / (dx2 * (dx1 + dx2))\n",
      "c:\\Users\\sophi\\anaconda3\\Lib\\site-packages\\numpy\\lib\\_function_base_impl.py:1315: RuntimeWarning: invalid value encountered in add\n",
      "  out[tuple(slice1)] = a * f[tuple(slice2)] + b * f[tuple(slice3)] + c * f[tuple(slice4)]\n"
     ]
    },
    {
     "name": "stdout",
     "output_type": "stream",
     "text": [
      "SS:R14C7-B__ExfoliatedMoS2_TGIdVg_DoubleGate.csv started\n"
     ]
    },
    {
     "name": "stderr",
     "output_type": "stream",
     "text": [
      "c:\\Users\\sophi\\anaconda3\\Lib\\site-packages\\numpy\\lib\\_function_base_impl.py:1307: RuntimeWarning: divide by zero encountered in divide\n",
      "  a = -(dx2)/(dx1 * (dx1 + dx2))\n",
      "c:\\Users\\sophi\\anaconda3\\Lib\\site-packages\\numpy\\lib\\_function_base_impl.py:1308: RuntimeWarning: divide by zero encountered in divide\n",
      "  b = (dx2 - dx1) / (dx1 * dx2)\n",
      "c:\\Users\\sophi\\anaconda3\\Lib\\site-packages\\numpy\\lib\\_function_base_impl.py:1309: RuntimeWarning: divide by zero encountered in divide\n",
      "  c = dx1 / (dx2 * (dx1 + dx2))\n",
      "c:\\Users\\sophi\\anaconda3\\Lib\\site-packages\\numpy\\lib\\_function_base_impl.py:1315: RuntimeWarning: invalid value encountered in add\n",
      "  out[tuple(slice1)] = a * f[tuple(slice2)] + b * f[tuple(slice3)] + c * f[tuple(slice4)]\n"
     ]
    },
    {
     "name": "stdout",
     "output_type": "stream",
     "text": [
      "SS:R14C7-T__ExfoliatedMoS2_TGIdVg_DoubleGate.csv started\n"
     ]
    },
    {
     "name": "stderr",
     "output_type": "stream",
     "text": [
      "c:\\Users\\sophi\\anaconda3\\Lib\\site-packages\\numpy\\lib\\_function_base_impl.py:1307: RuntimeWarning: divide by zero encountered in divide\n",
      "  a = -(dx2)/(dx1 * (dx1 + dx2))\n",
      "c:\\Users\\sophi\\anaconda3\\Lib\\site-packages\\numpy\\lib\\_function_base_impl.py:1308: RuntimeWarning: divide by zero encountered in divide\n",
      "  b = (dx2 - dx1) / (dx1 * dx2)\n",
      "c:\\Users\\sophi\\anaconda3\\Lib\\site-packages\\numpy\\lib\\_function_base_impl.py:1309: RuntimeWarning: divide by zero encountered in divide\n",
      "  c = dx1 / (dx2 * (dx1 + dx2))\n",
      "c:\\Users\\sophi\\anaconda3\\Lib\\site-packages\\numpy\\lib\\_function_base_impl.py:1315: RuntimeWarning: invalid value encountered in add\n",
      "  out[tuple(slice1)] = a * f[tuple(slice2)] + b * f[tuple(slice3)] + c * f[tuple(slice4)]\n"
     ]
    },
    {
     "name": "stdout",
     "output_type": "stream",
     "text": [
      "SS:R9C1-T__ExfoliatedMoS2_TGIdVg_DoubleGate.csv started\n"
     ]
    },
    {
     "name": "stderr",
     "output_type": "stream",
     "text": [
      "c:\\Users\\sophi\\anaconda3\\Lib\\site-packages\\numpy\\lib\\_function_base_impl.py:1307: RuntimeWarning: divide by zero encountered in divide\n",
      "  a = -(dx2)/(dx1 * (dx1 + dx2))\n",
      "c:\\Users\\sophi\\anaconda3\\Lib\\site-packages\\numpy\\lib\\_function_base_impl.py:1308: RuntimeWarning: divide by zero encountered in divide\n",
      "  b = (dx2 - dx1) / (dx1 * dx2)\n",
      "c:\\Users\\sophi\\anaconda3\\Lib\\site-packages\\numpy\\lib\\_function_base_impl.py:1309: RuntimeWarning: divide by zero encountered in divide\n",
      "  c = dx1 / (dx2 * (dx1 + dx2))\n",
      "c:\\Users\\sophi\\anaconda3\\Lib\\site-packages\\numpy\\lib\\_function_base_impl.py:1315: RuntimeWarning: invalid value encountered in add\n",
      "  out[tuple(slice1)] = a * f[tuple(slice2)] + b * f[tuple(slice3)] + c * f[tuple(slice4)]\n"
     ]
    },
    {
     "name": "stdout",
     "output_type": "stream",
     "text": [
      "SS:R9C4-B__ExfoliatedMoS2_TGIdVg_DoubleGate.csv started\n"
     ]
    },
    {
     "name": "stderr",
     "output_type": "stream",
     "text": [
      "c:\\Users\\sophi\\anaconda3\\Lib\\site-packages\\numpy\\lib\\_function_base_impl.py:1307: RuntimeWarning: divide by zero encountered in divide\n",
      "  a = -(dx2)/(dx1 * (dx1 + dx2))\n",
      "c:\\Users\\sophi\\anaconda3\\Lib\\site-packages\\numpy\\lib\\_function_base_impl.py:1308: RuntimeWarning: divide by zero encountered in divide\n",
      "  b = (dx2 - dx1) / (dx1 * dx2)\n",
      "c:\\Users\\sophi\\anaconda3\\Lib\\site-packages\\numpy\\lib\\_function_base_impl.py:1309: RuntimeWarning: divide by zero encountered in divide\n",
      "  c = dx1 / (dx2 * (dx1 + dx2))\n",
      "c:\\Users\\sophi\\anaconda3\\Lib\\site-packages\\numpy\\lib\\_function_base_impl.py:1315: RuntimeWarning: invalid value encountered in add\n",
      "  out[tuple(slice1)] = a * f[tuple(slice2)] + b * f[tuple(slice3)] + c * f[tuple(slice4)]\n"
     ]
    },
    {
     "name": "stdout",
     "output_type": "stream",
     "text": [
      "SS:R9C9-B__ExfoliatedMoS2_TGIdVg_DoubleGate.csv started\n"
     ]
    },
    {
     "name": "stderr",
     "output_type": "stream",
     "text": [
      "c:\\Users\\sophi\\anaconda3\\Lib\\site-packages\\numpy\\lib\\_function_base_impl.py:1307: RuntimeWarning: divide by zero encountered in divide\n",
      "  a = -(dx2)/(dx1 * (dx1 + dx2))\n",
      "c:\\Users\\sophi\\anaconda3\\Lib\\site-packages\\numpy\\lib\\_function_base_impl.py:1308: RuntimeWarning: divide by zero encountered in divide\n",
      "  b = (dx2 - dx1) / (dx1 * dx2)\n",
      "c:\\Users\\sophi\\anaconda3\\Lib\\site-packages\\numpy\\lib\\_function_base_impl.py:1309: RuntimeWarning: divide by zero encountered in divide\n",
      "  c = dx1 / (dx2 * (dx1 + dx2))\n",
      "c:\\Users\\sophi\\anaconda3\\Lib\\site-packages\\numpy\\lib\\_function_base_impl.py:1315: RuntimeWarning: invalid value encountered in add\n",
      "  out[tuple(slice1)] = a * f[tuple(slice2)] + b * f[tuple(slice3)] + c * f[tuple(slice4)]\n"
     ]
    },
    {
     "name": "stdout",
     "output_type": "stream",
     "text": [
      "SS:R9C9-T__ExfoliatedMoS2_TGIdVg_DoubleGate.csv started\n"
     ]
    },
    {
     "name": "stderr",
     "output_type": "stream",
     "text": [
      "c:\\Users\\sophi\\anaconda3\\Lib\\site-packages\\numpy\\lib\\_function_base_impl.py:1307: RuntimeWarning: divide by zero encountered in divide\n",
      "  a = -(dx2)/(dx1 * (dx1 + dx2))\n",
      "c:\\Users\\sophi\\anaconda3\\Lib\\site-packages\\numpy\\lib\\_function_base_impl.py:1308: RuntimeWarning: divide by zero encountered in divide\n",
      "  b = (dx2 - dx1) / (dx1 * dx2)\n",
      "c:\\Users\\sophi\\anaconda3\\Lib\\site-packages\\numpy\\lib\\_function_base_impl.py:1309: RuntimeWarning: divide by zero encountered in divide\n",
      "  c = dx1 / (dx2 * (dx1 + dx2))\n",
      "c:\\Users\\sophi\\anaconda3\\Lib\\site-packages\\numpy\\lib\\_function_base_impl.py:1315: RuntimeWarning: invalid value encountered in add\n",
      "  out[tuple(slice1)] = a * f[tuple(slice2)] + b * f[tuple(slice3)] + c * f[tuple(slice4)]\n"
     ]
    }
   ],
   "source": [
    "# For SS calculation\n",
    "\n",
    "\n",
    "\n",
    "for file in file_list:\n",
    "    match = re.search(r'[^\\\\]+$', file)\n",
    "    if match:\n",
    "        result = match.group(0)\n",
    "    print(f'SS:{result} started')\n",
    "\n",
    "    name_list.append(result)\n",
    "    try:\n",
    "        Vbg,df = mo.read_csv_IdVtg(file)\n",
    "    except Exception:\n",
    "        print(\"File not processed\")\n",
    "        continue\n",
    "    \n",
    "\n",
    "    df_reshaped = mo.reshape_table_by_VD_double(df)\n",
    "    df_sorted = mo.reorder_by_VG_double(df_reshaped,Vbg)\n",
    "\n",
    "\n",
    "    filename = directory_path + '\\\\sorted\\\\' + result\n",
    "    df_sorted.to_csv(filename, index=True)\n",
    "\n",
    "    current_max.append(max(df_sorted['Id, V_D = 1.0'].to_numpy()))  # find highest current\n",
    "\n",
    "\n",
    "\n",
    "    df_filtered = fs.filter_noise(df_sorted)\n",
    "    Vtg, smoothed_Id = fs.grab_V_I_0pt1(df_filtered)\n",
    "\n",
    "\n",
    "    Id_idx_100p = fs.find_first_Id_above_threshold(smoothed_Id,1e-10)\n",
    "    Id_idx_1n = fs.find_first_Id_above_threshold(smoothed_Id,1e-9)\n",
    "    Id_idx_10n = fs.find_first_Id_above_threshold(smoothed_Id,1e-8)\n",
    "\n",
    "\n",
    "    SS_grad,Id_max,Vtg_max,gm = fs.find_SS_grad(Vtg, smoothed_Id)\n",
    "\n",
    "\n",
    "    SS_100p.append(Vtg[Id_idx_1n] - Vtg[Id_idx_100p])\n",
    "    SS_1n.append(Vtg[Id_idx_10n] - Vtg[Id_idx_1n])\n",
    "    \n",
    "\n",
    "    SS_gradient_list.append(SS_grad)\n",
    "    SS_grad_I.append(Id_max)\n",
    "    SS_grad_gm.append(gm)\n",
    "    \n",
    "\n",
    "    \n"
   ]
  },
  {
   "cell_type": "code",
   "execution_count": 6,
   "id": "a09cbbe4",
   "metadata": {},
   "outputs": [],
   "source": [
    "SS_df = pd.DataFrame(list(zip(name_list,SS_100p,SS_1n,SS_gradient_list,SS_grad_I,SS_grad_gm,current_max)), columns=['filename', 'SS_100p','SS_1n','SS_grad','SS_grad_current','gm','Highest current'])\n",
    "SS_df.to_csv(f\"{directory_path}\\\\SS_per_file_1_double.csv\", index=False)"
   ]
  }
 ],
 "metadata": {
  "kernelspec": {
   "display_name": "base",
   "language": "python",
   "name": "python3"
  },
  "language_info": {
   "codemirror_mode": {
    "name": "ipython",
    "version": 3
   },
   "file_extension": ".py",
   "mimetype": "text/x-python",
   "name": "python",
   "nbconvert_exporter": "python",
   "pygments_lexer": "ipython3",
   "version": "3.13.5"
  }
 },
 "nbformat": 4,
 "nbformat_minor": 5
}
