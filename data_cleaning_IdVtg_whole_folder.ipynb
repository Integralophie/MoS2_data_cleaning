{
 "cells": [
  {
   "cell_type": "code",
   "execution_count": 1,
   "id": "ad07eb78",
   "metadata": {},
   "outputs": [],
   "source": [
    "import pandas as pd\n",
    "import matplotlib.pyplot as plt\n",
    "import MoS2_data_cleaning as mo\n",
    "import find_SS as fs\n",
    "import os\n",
    "import re\n",
    "import numpy as np\n",
    "from scipy.ndimage import gaussian_filter1d\n",
    "\n"
   ]
  },
  {
   "cell_type": "markdown",
   "id": "097689b3",
   "metadata": {},
   "source": [
    "Run the first cell to initial the notebook. Edit the directory path in the next cell. The third last cell is for sorting and saving `csv` files for origin. The second last and last cell are for SS calculation. "
   ]
  },
  {
   "cell_type": "code",
   "execution_count": 13,
   "id": "1d32a197",
   "metadata": {},
   "outputs": [],
   "source": [
    "directory_path = \"C:\\\\Users\\\\sophi\\\\Box\\\\MoS2Project\\\\2025-10-22-CVD\\\\SingleGateAnnealed\\\\IdVtg\"  # Replace with your directory path\n",
    "if not os.path.isdir(f'{directory_path}\\sorted'):\n",
    "    os.mkdir(f'{directory_path}\\sorted')\n",
    "file_list = []\n",
    "for filename in os.listdir(directory_path):\n",
    "    file_path = os.path.join(directory_path, filename)\n",
    "    if os.path.isfile(file_path):\n",
    "        file_list.append(file_path)"
   ]
  },
  {
   "cell_type": "code",
   "execution_count": 14,
   "id": "c45eb1eb",
   "metadata": {},
   "outputs": [],
   "source": [
    "# initializing empty list \n",
    "name_list = []  # all the file name containing location information\n",
    "SS_100p = []  # SS from 100pA to 1nA\n",
    "SS_1n = []  # SS from 1nA to 10nA\n",
    "# SS_peak_V = []\n",
    "# Vtg_upper_list = []\n",
    "# Vtg_lower_list = []\n",
    "# Id_upper_list = []\n",
    "# Id_lower_list = []\n",
    "SS_gradient_list = []  # SS via gradient method\n",
    "SS_grad_I = []  # Current where SS is calculated (gradient)\n",
    "SS_grad_gm = []\n",
    "current_max = []"
   ]
  },
  {
   "cell_type": "code",
   "execution_count": 15,
   "id": "ab06157e",
   "metadata": {},
   "outputs": [
    {
     "name": "stdout",
     "output_type": "stream",
     "text": [
      "SS: R10C6-B__ExfoliatedMoS2_TGIdVg.csv started\n"
     ]
    },
    {
     "name": "stderr",
     "output_type": "stream",
     "text": [
      "c:\\Users\\sophi\\anaconda3\\Lib\\site-packages\\numpy\\lib\\_function_base_impl.py:1307: RuntimeWarning: divide by zero encountered in divide\n",
      "  a = -(dx2)/(dx1 * (dx1 + dx2))\n",
      "c:\\Users\\sophi\\anaconda3\\Lib\\site-packages\\numpy\\lib\\_function_base_impl.py:1308: RuntimeWarning: divide by zero encountered in divide\n",
      "  b = (dx2 - dx1) / (dx1 * dx2)\n",
      "c:\\Users\\sophi\\anaconda3\\Lib\\site-packages\\numpy\\lib\\_function_base_impl.py:1309: RuntimeWarning: divide by zero encountered in divide\n",
      "  c = dx1 / (dx2 * (dx1 + dx2))\n",
      "c:\\Users\\sophi\\anaconda3\\Lib\\site-packages\\numpy\\lib\\_function_base_impl.py:1315: RuntimeWarning: invalid value encountered in add\n",
      "  out[tuple(slice1)] = a * f[tuple(slice2)] + b * f[tuple(slice3)] + c * f[tuple(slice4)]\n"
     ]
    },
    {
     "name": "stdout",
     "output_type": "stream",
     "text": [
      "SS: R10C6-T__ExfoliatedMoS2_TGIdVg.csv started\n"
     ]
    },
    {
     "name": "stderr",
     "output_type": "stream",
     "text": [
      "c:\\Users\\sophi\\anaconda3\\Lib\\site-packages\\numpy\\lib\\_function_base_impl.py:1307: RuntimeWarning: divide by zero encountered in divide\n",
      "  a = -(dx2)/(dx1 * (dx1 + dx2))\n",
      "c:\\Users\\sophi\\anaconda3\\Lib\\site-packages\\numpy\\lib\\_function_base_impl.py:1308: RuntimeWarning: divide by zero encountered in divide\n",
      "  b = (dx2 - dx1) / (dx1 * dx2)\n",
      "c:\\Users\\sophi\\anaconda3\\Lib\\site-packages\\numpy\\lib\\_function_base_impl.py:1309: RuntimeWarning: divide by zero encountered in divide\n",
      "  c = dx1 / (dx2 * (dx1 + dx2))\n",
      "c:\\Users\\sophi\\anaconda3\\Lib\\site-packages\\numpy\\lib\\_function_base_impl.py:1315: RuntimeWarning: invalid value encountered in add\n",
      "  out[tuple(slice1)] = a * f[tuple(slice2)] + b * f[tuple(slice3)] + c * f[tuple(slice4)]\n"
     ]
    },
    {
     "name": "stdout",
     "output_type": "stream",
     "text": [
      "SS: R11C10-B__ExfoliatedMoS2_TGIdVg.csv started\n"
     ]
    },
    {
     "name": "stderr",
     "output_type": "stream",
     "text": [
      "c:\\Users\\sophi\\anaconda3\\Lib\\site-packages\\numpy\\lib\\_function_base_impl.py:1307: RuntimeWarning: divide by zero encountered in divide\n",
      "  a = -(dx2)/(dx1 * (dx1 + dx2))\n",
      "c:\\Users\\sophi\\anaconda3\\Lib\\site-packages\\numpy\\lib\\_function_base_impl.py:1308: RuntimeWarning: divide by zero encountered in divide\n",
      "  b = (dx2 - dx1) / (dx1 * dx2)\n",
      "c:\\Users\\sophi\\anaconda3\\Lib\\site-packages\\numpy\\lib\\_function_base_impl.py:1309: RuntimeWarning: divide by zero encountered in divide\n",
      "  c = dx1 / (dx2 * (dx1 + dx2))\n",
      "c:\\Users\\sophi\\anaconda3\\Lib\\site-packages\\numpy\\lib\\_function_base_impl.py:1315: RuntimeWarning: invalid value encountered in add\n",
      "  out[tuple(slice1)] = a * f[tuple(slice2)] + b * f[tuple(slice3)] + c * f[tuple(slice4)]\n"
     ]
    },
    {
     "name": "stdout",
     "output_type": "stream",
     "text": [
      "SS: R11C10-T__ExfoliatedMoS2_TGIdVg.csv started\n"
     ]
    },
    {
     "name": "stderr",
     "output_type": "stream",
     "text": [
      "c:\\Users\\sophi\\anaconda3\\Lib\\site-packages\\numpy\\lib\\_function_base_impl.py:1307: RuntimeWarning: divide by zero encountered in divide\n",
      "  a = -(dx2)/(dx1 * (dx1 + dx2))\n",
      "c:\\Users\\sophi\\anaconda3\\Lib\\site-packages\\numpy\\lib\\_function_base_impl.py:1308: RuntimeWarning: divide by zero encountered in divide\n",
      "  b = (dx2 - dx1) / (dx1 * dx2)\n",
      "c:\\Users\\sophi\\anaconda3\\Lib\\site-packages\\numpy\\lib\\_function_base_impl.py:1309: RuntimeWarning: divide by zero encountered in divide\n",
      "  c = dx1 / (dx2 * (dx1 + dx2))\n",
      "c:\\Users\\sophi\\anaconda3\\Lib\\site-packages\\numpy\\lib\\_function_base_impl.py:1315: RuntimeWarning: invalid value encountered in add\n",
      "  out[tuple(slice1)] = a * f[tuple(slice2)] + b * f[tuple(slice3)] + c * f[tuple(slice4)]\n"
     ]
    },
    {
     "name": "stdout",
     "output_type": "stream",
     "text": [
      "SS: R11C11-B__ExfoliatedMoS2_TGIdVg.csv started\n"
     ]
    },
    {
     "name": "stderr",
     "output_type": "stream",
     "text": [
      "c:\\Users\\sophi\\anaconda3\\Lib\\site-packages\\numpy\\lib\\_function_base_impl.py:1307: RuntimeWarning: divide by zero encountered in divide\n",
      "  a = -(dx2)/(dx1 * (dx1 + dx2))\n",
      "c:\\Users\\sophi\\anaconda3\\Lib\\site-packages\\numpy\\lib\\_function_base_impl.py:1308: RuntimeWarning: divide by zero encountered in divide\n",
      "  b = (dx2 - dx1) / (dx1 * dx2)\n",
      "c:\\Users\\sophi\\anaconda3\\Lib\\site-packages\\numpy\\lib\\_function_base_impl.py:1309: RuntimeWarning: divide by zero encountered in divide\n",
      "  c = dx1 / (dx2 * (dx1 + dx2))\n",
      "c:\\Users\\sophi\\anaconda3\\Lib\\site-packages\\numpy\\lib\\_function_base_impl.py:1315: RuntimeWarning: invalid value encountered in add\n",
      "  out[tuple(slice1)] = a * f[tuple(slice2)] + b * f[tuple(slice3)] + c * f[tuple(slice4)]\n"
     ]
    },
    {
     "name": "stdout",
     "output_type": "stream",
     "text": [
      "SS: R11C11-T__ExfoliatedMoS2_TGIdVg.csv started\n"
     ]
    },
    {
     "name": "stderr",
     "output_type": "stream",
     "text": [
      "c:\\Users\\sophi\\anaconda3\\Lib\\site-packages\\numpy\\lib\\_function_base_impl.py:1307: RuntimeWarning: divide by zero encountered in divide\n",
      "  a = -(dx2)/(dx1 * (dx1 + dx2))\n",
      "c:\\Users\\sophi\\anaconda3\\Lib\\site-packages\\numpy\\lib\\_function_base_impl.py:1308: RuntimeWarning: divide by zero encountered in divide\n",
      "  b = (dx2 - dx1) / (dx1 * dx2)\n",
      "c:\\Users\\sophi\\anaconda3\\Lib\\site-packages\\numpy\\lib\\_function_base_impl.py:1309: RuntimeWarning: divide by zero encountered in divide\n",
      "  c = dx1 / (dx2 * (dx1 + dx2))\n",
      "c:\\Users\\sophi\\anaconda3\\Lib\\site-packages\\numpy\\lib\\_function_base_impl.py:1315: RuntimeWarning: invalid value encountered in add\n",
      "  out[tuple(slice1)] = a * f[tuple(slice2)] + b * f[tuple(slice3)] + c * f[tuple(slice4)]\n"
     ]
    },
    {
     "name": "stdout",
     "output_type": "stream",
     "text": [
      "SS: R11C5-B__ExfoliatedMoS2_TGIdVg.csv started\n"
     ]
    },
    {
     "name": "stderr",
     "output_type": "stream",
     "text": [
      "c:\\Users\\sophi\\anaconda3\\Lib\\site-packages\\numpy\\lib\\_function_base_impl.py:1307: RuntimeWarning: divide by zero encountered in divide\n",
      "  a = -(dx2)/(dx1 * (dx1 + dx2))\n",
      "c:\\Users\\sophi\\anaconda3\\Lib\\site-packages\\numpy\\lib\\_function_base_impl.py:1308: RuntimeWarning: divide by zero encountered in divide\n",
      "  b = (dx2 - dx1) / (dx1 * dx2)\n",
      "c:\\Users\\sophi\\anaconda3\\Lib\\site-packages\\numpy\\lib\\_function_base_impl.py:1309: RuntimeWarning: divide by zero encountered in divide\n",
      "  c = dx1 / (dx2 * (dx1 + dx2))\n",
      "c:\\Users\\sophi\\anaconda3\\Lib\\site-packages\\numpy\\lib\\_function_base_impl.py:1315: RuntimeWarning: invalid value encountered in add\n",
      "  out[tuple(slice1)] = a * f[tuple(slice2)] + b * f[tuple(slice3)] + c * f[tuple(slice4)]\n"
     ]
    },
    {
     "name": "stdout",
     "output_type": "stream",
     "text": [
      "SS: R11C9-B__ExfoliatedMoS2_TGIdVg.csv started\n"
     ]
    },
    {
     "name": "stderr",
     "output_type": "stream",
     "text": [
      "c:\\Users\\sophi\\anaconda3\\Lib\\site-packages\\numpy\\lib\\_function_base_impl.py:1307: RuntimeWarning: divide by zero encountered in divide\n",
      "  a = -(dx2)/(dx1 * (dx1 + dx2))\n",
      "c:\\Users\\sophi\\anaconda3\\Lib\\site-packages\\numpy\\lib\\_function_base_impl.py:1308: RuntimeWarning: divide by zero encountered in divide\n",
      "  b = (dx2 - dx1) / (dx1 * dx2)\n",
      "c:\\Users\\sophi\\anaconda3\\Lib\\site-packages\\numpy\\lib\\_function_base_impl.py:1309: RuntimeWarning: divide by zero encountered in divide\n",
      "  c = dx1 / (dx2 * (dx1 + dx2))\n",
      "c:\\Users\\sophi\\anaconda3\\Lib\\site-packages\\numpy\\lib\\_function_base_impl.py:1315: RuntimeWarning: invalid value encountered in add\n",
      "  out[tuple(slice1)] = a * f[tuple(slice2)] + b * f[tuple(slice3)] + c * f[tuple(slice4)]\n"
     ]
    },
    {
     "name": "stdout",
     "output_type": "stream",
     "text": [
      "SS: R11C9-T__ExfoliatedMoS2_TGIdVg.csv started\n"
     ]
    },
    {
     "name": "stderr",
     "output_type": "stream",
     "text": [
      "c:\\Users\\sophi\\anaconda3\\Lib\\site-packages\\numpy\\lib\\_function_base_impl.py:1307: RuntimeWarning: divide by zero encountered in divide\n",
      "  a = -(dx2)/(dx1 * (dx1 + dx2))\n",
      "c:\\Users\\sophi\\anaconda3\\Lib\\site-packages\\numpy\\lib\\_function_base_impl.py:1308: RuntimeWarning: divide by zero encountered in divide\n",
      "  b = (dx2 - dx1) / (dx1 * dx2)\n",
      "c:\\Users\\sophi\\anaconda3\\Lib\\site-packages\\numpy\\lib\\_function_base_impl.py:1309: RuntimeWarning: divide by zero encountered in divide\n",
      "  c = dx1 / (dx2 * (dx1 + dx2))\n",
      "c:\\Users\\sophi\\anaconda3\\Lib\\site-packages\\numpy\\lib\\_function_base_impl.py:1315: RuntimeWarning: invalid value encountered in add\n",
      "  out[tuple(slice1)] = a * f[tuple(slice2)] + b * f[tuple(slice3)] + c * f[tuple(slice4)]\n"
     ]
    },
    {
     "name": "stdout",
     "output_type": "stream",
     "text": [
      "SS: R12C3-B__ExfoliatedMoS2_TGIdVg.csv started\n"
     ]
    },
    {
     "name": "stderr",
     "output_type": "stream",
     "text": [
      "c:\\Users\\sophi\\anaconda3\\Lib\\site-packages\\numpy\\lib\\_function_base_impl.py:1307: RuntimeWarning: divide by zero encountered in divide\n",
      "  a = -(dx2)/(dx1 * (dx1 + dx2))\n",
      "c:\\Users\\sophi\\anaconda3\\Lib\\site-packages\\numpy\\lib\\_function_base_impl.py:1308: RuntimeWarning: divide by zero encountered in divide\n",
      "  b = (dx2 - dx1) / (dx1 * dx2)\n",
      "c:\\Users\\sophi\\anaconda3\\Lib\\site-packages\\numpy\\lib\\_function_base_impl.py:1309: RuntimeWarning: divide by zero encountered in divide\n",
      "  c = dx1 / (dx2 * (dx1 + dx2))\n",
      "c:\\Users\\sophi\\anaconda3\\Lib\\site-packages\\numpy\\lib\\_function_base_impl.py:1315: RuntimeWarning: invalid value encountered in add\n",
      "  out[tuple(slice1)] = a * f[tuple(slice2)] + b * f[tuple(slice3)] + c * f[tuple(slice4)]\n"
     ]
    },
    {
     "name": "stdout",
     "output_type": "stream",
     "text": [
      "SS: R12C3-T__ExfoliatedMoS2_TGIdVg.csv started\n"
     ]
    },
    {
     "name": "stderr",
     "output_type": "stream",
     "text": [
      "c:\\Users\\sophi\\anaconda3\\Lib\\site-packages\\numpy\\lib\\_function_base_impl.py:1307: RuntimeWarning: divide by zero encountered in divide\n",
      "  a = -(dx2)/(dx1 * (dx1 + dx2))\n",
      "c:\\Users\\sophi\\anaconda3\\Lib\\site-packages\\numpy\\lib\\_function_base_impl.py:1308: RuntimeWarning: divide by zero encountered in divide\n",
      "  b = (dx2 - dx1) / (dx1 * dx2)\n",
      "c:\\Users\\sophi\\anaconda3\\Lib\\site-packages\\numpy\\lib\\_function_base_impl.py:1309: RuntimeWarning: divide by zero encountered in divide\n",
      "  c = dx1 / (dx2 * (dx1 + dx2))\n",
      "c:\\Users\\sophi\\anaconda3\\Lib\\site-packages\\numpy\\lib\\_function_base_impl.py:1315: RuntimeWarning: invalid value encountered in add\n",
      "  out[tuple(slice1)] = a * f[tuple(slice2)] + b * f[tuple(slice3)] + c * f[tuple(slice4)]\n"
     ]
    },
    {
     "name": "stdout",
     "output_type": "stream",
     "text": [
      "SS: R12C5-B__ExfoliatedMoS2_TGIdVg.csv started\n"
     ]
    },
    {
     "name": "stderr",
     "output_type": "stream",
     "text": [
      "c:\\Users\\sophi\\anaconda3\\Lib\\site-packages\\numpy\\lib\\_function_base_impl.py:1307: RuntimeWarning: divide by zero encountered in divide\n",
      "  a = -(dx2)/(dx1 * (dx1 + dx2))\n",
      "c:\\Users\\sophi\\anaconda3\\Lib\\site-packages\\numpy\\lib\\_function_base_impl.py:1308: RuntimeWarning: divide by zero encountered in divide\n",
      "  b = (dx2 - dx1) / (dx1 * dx2)\n",
      "c:\\Users\\sophi\\anaconda3\\Lib\\site-packages\\numpy\\lib\\_function_base_impl.py:1309: RuntimeWarning: divide by zero encountered in divide\n",
      "  c = dx1 / (dx2 * (dx1 + dx2))\n",
      "c:\\Users\\sophi\\anaconda3\\Lib\\site-packages\\numpy\\lib\\_function_base_impl.py:1315: RuntimeWarning: invalid value encountered in add\n",
      "  out[tuple(slice1)] = a * f[tuple(slice2)] + b * f[tuple(slice3)] + c * f[tuple(slice4)]\n"
     ]
    },
    {
     "name": "stdout",
     "output_type": "stream",
     "text": [
      "SS: R12C5-T__ExfoliatedMoS2_TGIdVg.csv started\n"
     ]
    },
    {
     "name": "stderr",
     "output_type": "stream",
     "text": [
      "c:\\Users\\sophi\\anaconda3\\Lib\\site-packages\\numpy\\lib\\_function_base_impl.py:1307: RuntimeWarning: divide by zero encountered in divide\n",
      "  a = -(dx2)/(dx1 * (dx1 + dx2))\n",
      "c:\\Users\\sophi\\anaconda3\\Lib\\site-packages\\numpy\\lib\\_function_base_impl.py:1308: RuntimeWarning: divide by zero encountered in divide\n",
      "  b = (dx2 - dx1) / (dx1 * dx2)\n",
      "c:\\Users\\sophi\\anaconda3\\Lib\\site-packages\\numpy\\lib\\_function_base_impl.py:1309: RuntimeWarning: divide by zero encountered in divide\n",
      "  c = dx1 / (dx2 * (dx1 + dx2))\n",
      "c:\\Users\\sophi\\anaconda3\\Lib\\site-packages\\numpy\\lib\\_function_base_impl.py:1315: RuntimeWarning: invalid value encountered in add\n",
      "  out[tuple(slice1)] = a * f[tuple(slice2)] + b * f[tuple(slice3)] + c * f[tuple(slice4)]\n"
     ]
    },
    {
     "name": "stdout",
     "output_type": "stream",
     "text": [
      "SS: R12C6-T__ExfoliatedMoS2_TGIdVg.csv started\n"
     ]
    },
    {
     "name": "stderr",
     "output_type": "stream",
     "text": [
      "c:\\Users\\sophi\\anaconda3\\Lib\\site-packages\\numpy\\lib\\_function_base_impl.py:1307: RuntimeWarning: divide by zero encountered in divide\n",
      "  a = -(dx2)/(dx1 * (dx1 + dx2))\n",
      "c:\\Users\\sophi\\anaconda3\\Lib\\site-packages\\numpy\\lib\\_function_base_impl.py:1308: RuntimeWarning: divide by zero encountered in divide\n",
      "  b = (dx2 - dx1) / (dx1 * dx2)\n",
      "c:\\Users\\sophi\\anaconda3\\Lib\\site-packages\\numpy\\lib\\_function_base_impl.py:1309: RuntimeWarning: divide by zero encountered in divide\n",
      "  c = dx1 / (dx2 * (dx1 + dx2))\n",
      "c:\\Users\\sophi\\anaconda3\\Lib\\site-packages\\numpy\\lib\\_function_base_impl.py:1315: RuntimeWarning: invalid value encountered in add\n",
      "  out[tuple(slice1)] = a * f[tuple(slice2)] + b * f[tuple(slice3)] + c * f[tuple(slice4)]\n"
     ]
    },
    {
     "name": "stdout",
     "output_type": "stream",
     "text": [
      "SS: R14C2-B__ExfoliatedMoS2_TGIdVg.csv started\n"
     ]
    },
    {
     "name": "stderr",
     "output_type": "stream",
     "text": [
      "c:\\Users\\sophi\\anaconda3\\Lib\\site-packages\\numpy\\lib\\_function_base_impl.py:1307: RuntimeWarning: divide by zero encountered in divide\n",
      "  a = -(dx2)/(dx1 * (dx1 + dx2))\n",
      "c:\\Users\\sophi\\anaconda3\\Lib\\site-packages\\numpy\\lib\\_function_base_impl.py:1308: RuntimeWarning: divide by zero encountered in divide\n",
      "  b = (dx2 - dx1) / (dx1 * dx2)\n",
      "c:\\Users\\sophi\\anaconda3\\Lib\\site-packages\\numpy\\lib\\_function_base_impl.py:1309: RuntimeWarning: divide by zero encountered in divide\n",
      "  c = dx1 / (dx2 * (dx1 + dx2))\n",
      "c:\\Users\\sophi\\anaconda3\\Lib\\site-packages\\numpy\\lib\\_function_base_impl.py:1315: RuntimeWarning: invalid value encountered in add\n",
      "  out[tuple(slice1)] = a * f[tuple(slice2)] + b * f[tuple(slice3)] + c * f[tuple(slice4)]\n"
     ]
    },
    {
     "name": "stdout",
     "output_type": "stream",
     "text": [
      "SS: R14C2-T__ExfoliatedMoS2_TGIdVg.csv started\n"
     ]
    },
    {
     "name": "stderr",
     "output_type": "stream",
     "text": [
      "c:\\Users\\sophi\\anaconda3\\Lib\\site-packages\\numpy\\lib\\_function_base_impl.py:1307: RuntimeWarning: divide by zero encountered in divide\n",
      "  a = -(dx2)/(dx1 * (dx1 + dx2))\n",
      "c:\\Users\\sophi\\anaconda3\\Lib\\site-packages\\numpy\\lib\\_function_base_impl.py:1308: RuntimeWarning: divide by zero encountered in divide\n",
      "  b = (dx2 - dx1) / (dx1 * dx2)\n",
      "c:\\Users\\sophi\\anaconda3\\Lib\\site-packages\\numpy\\lib\\_function_base_impl.py:1309: RuntimeWarning: divide by zero encountered in divide\n",
      "  c = dx1 / (dx2 * (dx1 + dx2))\n",
      "c:\\Users\\sophi\\anaconda3\\Lib\\site-packages\\numpy\\lib\\_function_base_impl.py:1315: RuntimeWarning: invalid value encountered in add\n",
      "  out[tuple(slice1)] = a * f[tuple(slice2)] + b * f[tuple(slice3)] + c * f[tuple(slice4)]\n"
     ]
    },
    {
     "name": "stdout",
     "output_type": "stream",
     "text": [
      "SS: R14C5-B__ExfoliatedMoS2_TGIdVg.csv started\n"
     ]
    },
    {
     "name": "stderr",
     "output_type": "stream",
     "text": [
      "c:\\Users\\sophi\\anaconda3\\Lib\\site-packages\\numpy\\lib\\_function_base_impl.py:1307: RuntimeWarning: divide by zero encountered in divide\n",
      "  a = -(dx2)/(dx1 * (dx1 + dx2))\n",
      "c:\\Users\\sophi\\anaconda3\\Lib\\site-packages\\numpy\\lib\\_function_base_impl.py:1308: RuntimeWarning: divide by zero encountered in divide\n",
      "  b = (dx2 - dx1) / (dx1 * dx2)\n",
      "c:\\Users\\sophi\\anaconda3\\Lib\\site-packages\\numpy\\lib\\_function_base_impl.py:1309: RuntimeWarning: divide by zero encountered in divide\n",
      "  c = dx1 / (dx2 * (dx1 + dx2))\n",
      "c:\\Users\\sophi\\anaconda3\\Lib\\site-packages\\numpy\\lib\\_function_base_impl.py:1315: RuntimeWarning: invalid value encountered in add\n",
      "  out[tuple(slice1)] = a * f[tuple(slice2)] + b * f[tuple(slice3)] + c * f[tuple(slice4)]\n"
     ]
    },
    {
     "name": "stdout",
     "output_type": "stream",
     "text": [
      "SS: R14C6-B__ExfoliatedMoS2_TGIdVg.csv started\n"
     ]
    },
    {
     "name": "stderr",
     "output_type": "stream",
     "text": [
      "c:\\Users\\sophi\\anaconda3\\Lib\\site-packages\\numpy\\lib\\_function_base_impl.py:1307: RuntimeWarning: divide by zero encountered in divide\n",
      "  a = -(dx2)/(dx1 * (dx1 + dx2))\n",
      "c:\\Users\\sophi\\anaconda3\\Lib\\site-packages\\numpy\\lib\\_function_base_impl.py:1308: RuntimeWarning: divide by zero encountered in divide\n",
      "  b = (dx2 - dx1) / (dx1 * dx2)\n",
      "c:\\Users\\sophi\\anaconda3\\Lib\\site-packages\\numpy\\lib\\_function_base_impl.py:1309: RuntimeWarning: divide by zero encountered in divide\n",
      "  c = dx1 / (dx2 * (dx1 + dx2))\n",
      "c:\\Users\\sophi\\anaconda3\\Lib\\site-packages\\numpy\\lib\\_function_base_impl.py:1315: RuntimeWarning: invalid value encountered in add\n",
      "  out[tuple(slice1)] = a * f[tuple(slice2)] + b * f[tuple(slice3)] + c * f[tuple(slice4)]\n"
     ]
    },
    {
     "name": "stdout",
     "output_type": "stream",
     "text": [
      "SS: R14C6-T__ExfoliatedMoS2_TGIdVg.csv started\n"
     ]
    },
    {
     "name": "stderr",
     "output_type": "stream",
     "text": [
      "c:\\Users\\sophi\\anaconda3\\Lib\\site-packages\\numpy\\lib\\_function_base_impl.py:1307: RuntimeWarning: divide by zero encountered in divide\n",
      "  a = -(dx2)/(dx1 * (dx1 + dx2))\n",
      "c:\\Users\\sophi\\anaconda3\\Lib\\site-packages\\numpy\\lib\\_function_base_impl.py:1308: RuntimeWarning: divide by zero encountered in divide\n",
      "  b = (dx2 - dx1) / (dx1 * dx2)\n",
      "c:\\Users\\sophi\\anaconda3\\Lib\\site-packages\\numpy\\lib\\_function_base_impl.py:1309: RuntimeWarning: divide by zero encountered in divide\n",
      "  c = dx1 / (dx2 * (dx1 + dx2))\n",
      "c:\\Users\\sophi\\anaconda3\\Lib\\site-packages\\numpy\\lib\\_function_base_impl.py:1315: RuntimeWarning: invalid value encountered in add\n",
      "  out[tuple(slice1)] = a * f[tuple(slice2)] + b * f[tuple(slice3)] + c * f[tuple(slice4)]\n"
     ]
    },
    {
     "name": "stdout",
     "output_type": "stream",
     "text": [
      "SS: R14C7-B__ExfoliatedMoS2_TGIdVg.csv started\n"
     ]
    },
    {
     "name": "stderr",
     "output_type": "stream",
     "text": [
      "c:\\Users\\sophi\\anaconda3\\Lib\\site-packages\\numpy\\lib\\_function_base_impl.py:1307: RuntimeWarning: divide by zero encountered in divide\n",
      "  a = -(dx2)/(dx1 * (dx1 + dx2))\n",
      "c:\\Users\\sophi\\anaconda3\\Lib\\site-packages\\numpy\\lib\\_function_base_impl.py:1308: RuntimeWarning: divide by zero encountered in divide\n",
      "  b = (dx2 - dx1) / (dx1 * dx2)\n",
      "c:\\Users\\sophi\\anaconda3\\Lib\\site-packages\\numpy\\lib\\_function_base_impl.py:1309: RuntimeWarning: divide by zero encountered in divide\n",
      "  c = dx1 / (dx2 * (dx1 + dx2))\n",
      "c:\\Users\\sophi\\anaconda3\\Lib\\site-packages\\numpy\\lib\\_function_base_impl.py:1315: RuntimeWarning: invalid value encountered in add\n",
      "  out[tuple(slice1)] = a * f[tuple(slice2)] + b * f[tuple(slice3)] + c * f[tuple(slice4)]\n"
     ]
    },
    {
     "name": "stdout",
     "output_type": "stream",
     "text": [
      "SS: R14C7-T__ExfoliatedMoS2_TGIdVg.csv started\n"
     ]
    },
    {
     "name": "stderr",
     "output_type": "stream",
     "text": [
      "c:\\Users\\sophi\\anaconda3\\Lib\\site-packages\\numpy\\lib\\_function_base_impl.py:1307: RuntimeWarning: divide by zero encountered in divide\n",
      "  a = -(dx2)/(dx1 * (dx1 + dx2))\n",
      "c:\\Users\\sophi\\anaconda3\\Lib\\site-packages\\numpy\\lib\\_function_base_impl.py:1308: RuntimeWarning: divide by zero encountered in divide\n",
      "  b = (dx2 - dx1) / (dx1 * dx2)\n",
      "c:\\Users\\sophi\\anaconda3\\Lib\\site-packages\\numpy\\lib\\_function_base_impl.py:1309: RuntimeWarning: divide by zero encountered in divide\n",
      "  c = dx1 / (dx2 * (dx1 + dx2))\n",
      "c:\\Users\\sophi\\anaconda3\\Lib\\site-packages\\numpy\\lib\\_function_base_impl.py:1315: RuntimeWarning: invalid value encountered in add\n",
      "  out[tuple(slice1)] = a * f[tuple(slice2)] + b * f[tuple(slice3)] + c * f[tuple(slice4)]\n"
     ]
    },
    {
     "name": "stdout",
     "output_type": "stream",
     "text": [
      "SS: R9C1-T__ExfoliatedMoS2_TGIdVg.csv started\n"
     ]
    },
    {
     "name": "stderr",
     "output_type": "stream",
     "text": [
      "c:\\Users\\sophi\\anaconda3\\Lib\\site-packages\\numpy\\lib\\_function_base_impl.py:1307: RuntimeWarning: divide by zero encountered in divide\n",
      "  a = -(dx2)/(dx1 * (dx1 + dx2))\n",
      "c:\\Users\\sophi\\anaconda3\\Lib\\site-packages\\numpy\\lib\\_function_base_impl.py:1308: RuntimeWarning: divide by zero encountered in divide\n",
      "  b = (dx2 - dx1) / (dx1 * dx2)\n",
      "c:\\Users\\sophi\\anaconda3\\Lib\\site-packages\\numpy\\lib\\_function_base_impl.py:1309: RuntimeWarning: divide by zero encountered in divide\n",
      "  c = dx1 / (dx2 * (dx1 + dx2))\n",
      "c:\\Users\\sophi\\anaconda3\\Lib\\site-packages\\numpy\\lib\\_function_base_impl.py:1315: RuntimeWarning: invalid value encountered in add\n",
      "  out[tuple(slice1)] = a * f[tuple(slice2)] + b * f[tuple(slice3)] + c * f[tuple(slice4)]\n"
     ]
    },
    {
     "name": "stdout",
     "output_type": "stream",
     "text": [
      "SS: R9C4-B__ExfoliatedMoS2_TGIdVg.csv started\n"
     ]
    },
    {
     "name": "stderr",
     "output_type": "stream",
     "text": [
      "c:\\Users\\sophi\\anaconda3\\Lib\\site-packages\\numpy\\lib\\_function_base_impl.py:1307: RuntimeWarning: divide by zero encountered in divide\n",
      "  a = -(dx2)/(dx1 * (dx1 + dx2))\n",
      "c:\\Users\\sophi\\anaconda3\\Lib\\site-packages\\numpy\\lib\\_function_base_impl.py:1308: RuntimeWarning: divide by zero encountered in divide\n",
      "  b = (dx2 - dx1) / (dx1 * dx2)\n",
      "c:\\Users\\sophi\\anaconda3\\Lib\\site-packages\\numpy\\lib\\_function_base_impl.py:1309: RuntimeWarning: divide by zero encountered in divide\n",
      "  c = dx1 / (dx2 * (dx1 + dx2))\n",
      "c:\\Users\\sophi\\anaconda3\\Lib\\site-packages\\numpy\\lib\\_function_base_impl.py:1315: RuntimeWarning: invalid value encountered in add\n",
      "  out[tuple(slice1)] = a * f[tuple(slice2)] + b * f[tuple(slice3)] + c * f[tuple(slice4)]\n"
     ]
    },
    {
     "name": "stdout",
     "output_type": "stream",
     "text": [
      "SS: R9C9-B__ExfoliatedMoS2_TGIdVg.csv started\n"
     ]
    },
    {
     "name": "stderr",
     "output_type": "stream",
     "text": [
      "c:\\Users\\sophi\\anaconda3\\Lib\\site-packages\\numpy\\lib\\_function_base_impl.py:1307: RuntimeWarning: divide by zero encountered in divide\n",
      "  a = -(dx2)/(dx1 * (dx1 + dx2))\n",
      "c:\\Users\\sophi\\anaconda3\\Lib\\site-packages\\numpy\\lib\\_function_base_impl.py:1308: RuntimeWarning: divide by zero encountered in divide\n",
      "  b = (dx2 - dx1) / (dx1 * dx2)\n",
      "c:\\Users\\sophi\\anaconda3\\Lib\\site-packages\\numpy\\lib\\_function_base_impl.py:1309: RuntimeWarning: divide by zero encountered in divide\n",
      "  c = dx1 / (dx2 * (dx1 + dx2))\n",
      "c:\\Users\\sophi\\anaconda3\\Lib\\site-packages\\numpy\\lib\\_function_base_impl.py:1315: RuntimeWarning: invalid value encountered in add\n",
      "  out[tuple(slice1)] = a * f[tuple(slice2)] + b * f[tuple(slice3)] + c * f[tuple(slice4)]\n"
     ]
    },
    {
     "name": "stdout",
     "output_type": "stream",
     "text": [
      "SS: R9C9-T__ExfoliatedMoS2_TGIdVg.csv started\n"
     ]
    },
    {
     "name": "stderr",
     "output_type": "stream",
     "text": [
      "c:\\Users\\sophi\\anaconda3\\Lib\\site-packages\\numpy\\lib\\_function_base_impl.py:1307: RuntimeWarning: divide by zero encountered in divide\n",
      "  a = -(dx2)/(dx1 * (dx1 + dx2))\n",
      "c:\\Users\\sophi\\anaconda3\\Lib\\site-packages\\numpy\\lib\\_function_base_impl.py:1308: RuntimeWarning: divide by zero encountered in divide\n",
      "  b = (dx2 - dx1) / (dx1 * dx2)\n",
      "c:\\Users\\sophi\\anaconda3\\Lib\\site-packages\\numpy\\lib\\_function_base_impl.py:1309: RuntimeWarning: divide by zero encountered in divide\n",
      "  c = dx1 / (dx2 * (dx1 + dx2))\n",
      "c:\\Users\\sophi\\anaconda3\\Lib\\site-packages\\numpy\\lib\\_function_base_impl.py:1315: RuntimeWarning: invalid value encountered in add\n",
      "  out[tuple(slice1)] = a * f[tuple(slice2)] + b * f[tuple(slice3)] + c * f[tuple(slice4)]\n"
     ]
    }
   ],
   "source": [
    "# For SS calculation & saving files \n",
    "\n",
    "for file in file_list:\n",
    "    match = re.search(r'[^\\\\]+$', file)\n",
    "    if match:\n",
    "        result = match.group(0)\n",
    "    \n",
    "    print(f'SS: {result} started')\n",
    "    name_list.append(result)  # creates the name list\n",
    "    try:\n",
    "        Vbg,df = mo.read_csv_IdVtg(file)\n",
    "    except Exception:\n",
    "        print(\"File not processed: not a data file\")\n",
    "        continue\n",
    "    \n",
    "\n",
    "    df_reshaped = mo.reshape_table_by_VD(df)\n",
    "    df_sorted = mo.reorder_by_VG(df_reshaped,Vbg)\n",
    "\n",
    "    # filename =directory_path + '\\\\sorted\\\\' + result\n",
    "    # df_sorted.to_csv(filename, index=True)\n",
    "\n",
    "    current_max.append(max(df_sorted['Id, V_D = 1.0'].to_numpy()))  # find highest current\n",
    "\n",
    "\n",
    "\n",
    "    df_filtered = fs.filter_noise(df_sorted)\n",
    "    Vtg, smoothed_Id = fs.grab_V_I_0pt1(df_filtered)\n",
    "    # SS,idx_large,idx_small,SS_grad,SS_grad_idx = fs.find_SS(Vtg,smoothed_Id)\n",
    "\n",
    "    Id_idx_100p = fs.find_first_Id_above_threshold(smoothed_Id,1e-10)\n",
    "    Id_idx_1n = fs.find_first_Id_above_threshold(smoothed_Id,1e-9)\n",
    "    Id_idx_10n = fs.find_first_Id_above_threshold(smoothed_Id,1e-8)\n",
    "\n",
    "\n",
    "    SS_grad,Id_max,Vtg_max,gm = fs.find_SS_grad(Vtg, smoothed_Id)\n",
    "\n",
    "    # SS_V = Vtg[round((idx_large + idx_small)/2)]\n",
    "    # SS_grad_V = Vtg[SS_grad_idx]\n",
    "\n",
    "    SS_100p.append(Vtg[Id_idx_1n] - Vtg[Id_idx_100p])\n",
    "    SS_1n.append(Vtg[Id_idx_10n] - Vtg[Id_idx_1n])\n",
    "    \n",
    "\n",
    "    SS_gradient_list.append(SS_grad)\n",
    "    SS_grad_I.append(Id_max)\n",
    "    SS_grad_gm.append(gm)\n",
    "    # SS_grad_peak_V.append(SS_grad_V)\n",
    "\n",
    "    # Vtg_upper_list.append(Vtg[idx_large])\n",
    "    # Vtg_lower_list.append(Vtg[idx_small])\n",
    "    # Id_upper_list.append(smoothed_Id[idx_large])\n",
    "    # Id_lower_list.append(smoothed_Id[idx_small])\n",
    "    \n",
    "\n",
    "    \n"
   ]
  },
  {
   "cell_type": "code",
   "execution_count": 16,
   "id": "a09cbbe4",
   "metadata": {},
   "outputs": [],
   "source": [
    "SS_df = pd.DataFrame(list(zip(name_list,SS_100p,SS_1n,SS_gradient_list,SS_grad_I,SS_grad_gm,current_max)), columns=['filename', 'SS_100p','SS_1n','SS_grad','SS_grad_current','gm','Highest current'])\n",
    "SS_df.to_csv(f\"{directory_path}\\\\SS_per_file_1_annealed.csv\", index=False)"
   ]
  },
  {
   "cell_type": "code",
   "execution_count": null,
   "id": "9ea6e867",
   "metadata": {},
   "outputs": [
    {
     "name": "stdout",
     "output_type": "stream",
     "text": [
      "0\n",
      "1\n",
      "2\n",
      "3\n",
      "4\n",
      "5\n",
      "6\n",
      "7\n",
      "8\n",
      "9\n",
      "10\n",
      "11\n",
      "12\n",
      "13\n",
      "14\n",
      "15\n",
      "16\n",
      "17\n",
      "18\n",
      "19\n",
      "20\n",
      "21\n",
      "22\n",
      "23\n",
      "24\n",
      "25\n",
      "26\n",
      "27\n",
      "28\n",
      "29\n",
      "30\n",
      "31\n",
      "32\n",
      "33\n",
      "34\n",
      "35\n",
      "36\n",
      "37\n",
      "38\n",
      "39\n",
      "40\n",
      "41\n",
      "42\n",
      "43\n",
      "44\n",
      "45\n",
      "46\n",
      "47\n",
      "48\n",
      "49\n",
      "50\n",
      "51\n",
      "52\n",
      "53\n",
      "54\n",
      "55\n",
      "56\n",
      "57\n",
      "58\n",
      "59\n",
      "60\n",
      "61\n",
      "62\n",
      "63\n",
      "64\n",
      "65\n",
      "66\n",
      "67\n",
      "68\n",
      "69\n",
      "70\n",
      "71\n",
      "72\n",
      "73\n",
      "74\n",
      "75\n",
      "76\n",
      "77\n",
      "78\n",
      "79\n",
      "80\n",
      "81\n",
      "82\n",
      "83\n",
      "84\n",
      "85\n",
      "86\n",
      "87\n",
      "88\n",
      "89\n",
      "90\n",
      "91\n",
      "92\n",
      "93\n",
      "94\n",
      "95\n",
      "96\n",
      "97\n",
      "98\n",
      "99\n",
      "100\n",
      "101\n",
      "102\n",
      "103\n",
      "104\n",
      "105\n",
      "106\n",
      "107\n",
      "108\n",
      "109\n",
      "110\n",
      "111\n",
      "112\n",
      "113\n",
      "114\n",
      "115\n",
      "116\n",
      "117\n",
      "118\n",
      "119\n",
      "120\n",
      "121\n",
      "122\n",
      "123\n",
      "124\n",
      "125\n",
      "126\n",
      "127\n",
      "128\n",
      "129\n",
      "130\n",
      "131\n",
      "132\n",
      "133\n",
      "134\n",
      "135\n",
      "136\n",
      "137\n",
      "138\n",
      "139\n",
      "140\n",
      "141\n",
      "142\n",
      "143\n",
      "144\n",
      "145\n",
      "146\n",
      "147\n",
      "148\n",
      "149\n",
      "150\n",
      "151\n",
      "152\n",
      "153\n",
      "154\n",
      "155\n",
      "156\n",
      "157\n",
      "158\n",
      "159\n",
      "160\n",
      "161\n",
      "162\n",
      "163\n",
      "164\n",
      "165\n",
      "166\n",
      "167\n",
      "168\n",
      "169\n",
      "170\n",
      "171\n",
      "172\n",
      "173\n",
      "174\n",
      "175\n",
      "176\n",
      "177\n",
      "178\n",
      "179\n",
      "180\n",
      "181\n",
      "182\n",
      "183\n"
     ]
    }
   ],
   "source": [
    "for i in range(len(SS_list)):\n",
    "    if abs(SS_list[i] - SS_gradient_list[i]) > 0.1:\n",
    "        pass"
   ]
  }
 ],
 "metadata": {
  "kernelspec": {
   "display_name": "base",
   "language": "python",
   "name": "python3"
  },
  "language_info": {
   "codemirror_mode": {
    "name": "ipython",
    "version": 3
   },
   "file_extension": ".py",
   "mimetype": "text/x-python",
   "name": "python",
   "nbconvert_exporter": "python",
   "pygments_lexer": "ipython3",
   "version": "3.13.5"
  }
 },
 "nbformat": 4,
 "nbformat_minor": 5
}
